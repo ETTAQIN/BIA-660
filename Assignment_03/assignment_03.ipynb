{
 "cells": [
  {
   "cell_type": "code",
   "execution_count": 66,
   "metadata": {
    "collapsed": true
   },
   "outputs": [],
   "source": [
    "import pandas as pd\n",
    "import json\n",
    "import spacy\n",
    "from sklearn.feature_extraction.text import CountVectorizer\n",
    "from sklearn.base import BaseEstimator, TransformerMixin\n",
    "from sklearn.pipeline import Pipeline\n",
    "%matplotlib inline\n",
    "from matplotlib import pyplot\n",
    "from sklearn.model_selection import train_test_split"
   ]
  },
  {
   "cell_type": "markdown",
   "metadata": {},
   "source": [
    "Get the scraped data and clean the data"
   ]
  },
  {
   "cell_type": "code",
   "execution_count": 3,
   "metadata": {
    "collapsed": true
   },
   "outputs": [],
   "source": [
    "with open('/Users/qinjiale/PycharmProjects/BIA-660/Assignment_03/reviews.json') as data_file:\n",
    "    data = json.load(data_file)"
   ]
  },
  {
   "cell_type": "code",
   "execution_count": 4,
   "metadata": {
    "collapsed": true
   },
   "outputs": [],
   "source": [
    "df = pd.read_json(data)"
   ]
  },
  {
   "cell_type": "code",
   "execution_count": 5,
   "metadata": {},
   "outputs": [
    {
     "data": {
      "text/html": [
       "<div>\n",
       "<style>\n",
       "    .dataframe thead tr:only-child th {\n",
       "        text-align: right;\n",
       "    }\n",
       "\n",
       "    .dataframe thead th {\n",
       "        text-align: left;\n",
       "    }\n",
       "\n",
       "    .dataframe tbody tr th {\n",
       "        vertical-align: top;\n",
       "    }\n",
       "</style>\n",
       "<table border=\"1\" class=\"dataframe\">\n",
       "  <thead>\n",
       "    <tr style=\"text-align: right;\">\n",
       "      <th></th>\n",
       "      <th>Comment</th>\n",
       "      <th>CustomerName</th>\n",
       "      <th>Date</th>\n",
       "      <th>Headline</th>\n",
       "      <th>Pattern</th>\n",
       "      <th>Rating</th>\n",
       "      <th>TextReview</th>\n",
       "    </tr>\n",
       "  </thead>\n",
       "  <tbody>\n",
       "    <tr>\n",
       "      <th>0</th>\n",
       "      <td>One person found this helpful. Was this review...</td>\n",
       "      <td>Alexander Cable</td>\n",
       "      <td>2018-04-17</td>\n",
       "      <td>It isn't very bright but it's small and will e...</td>\n",
       "      <td>Pattern: LED Flashlight 2P</td>\n",
       "      <td>5.0 out of 5 stars</td>\n",
       "      <td>It isn't very bright but it's small and will e...</td>\n",
       "    </tr>\n",
       "    <tr>\n",
       "      <th>1</th>\n",
       "      <td>One person found this helpful. Was this review...</td>\n",
       "      <td>Courtney</td>\n",
       "      <td>2018-04-16</td>\n",
       "      <td>Bright, but eats batteries</td>\n",
       "      <td>Pattern: LED Flashlight 2P</td>\n",
       "      <td>5.0 out of 5 stars</td>\n",
       "      <td>Very bright, I work in a run down steel mill a...</td>\n",
       "    </tr>\n",
       "    <tr>\n",
       "      <th>2</th>\n",
       "      <td>Was this review helpful to you?</td>\n",
       "      <td>GREGORY TEEUWEN</td>\n",
       "      <td>2018-04-16</td>\n",
       "      <td>They work pretty good. Didn't blow me away</td>\n",
       "      <td>Pattern: LED Flashlight 2P</td>\n",
       "      <td>4.0 out of 5 stars</td>\n",
       "      <td>They work pretty good. Didn't blow me away, an...</td>\n",
       "    </tr>\n",
       "    <tr>\n",
       "      <th>3</th>\n",
       "      <td>Was this review helpful to you?</td>\n",
       "      <td>Blaqirishman</td>\n",
       "      <td>2018-04-16</td>\n",
       "      <td>Four Stars</td>\n",
       "      <td>Pattern: LED Flashlight 2P</td>\n",
       "      <td>4.0 out of 5 stars</td>\n",
       "      <td>I will only say for now so far so good, will s...</td>\n",
       "    </tr>\n",
       "    <tr>\n",
       "      <th>4</th>\n",
       "      <td>Was this review helpful to you?</td>\n",
       "      <td>Scott</td>\n",
       "      <td>2018-04-16</td>\n",
       "      <td>Five Stars</td>\n",
       "      <td>Pattern: LED Flashlight 2P</td>\n",
       "      <td>5.0 out of 5 stars</td>\n",
       "      <td>Great little flashlight, very bright, will buy...</td>\n",
       "    </tr>\n",
       "  </tbody>\n",
       "</table>\n",
       "</div>"
      ],
      "text/plain": [
       "                                             Comment     CustomerName  \\\n",
       "0  One person found this helpful. Was this review...  Alexander Cable   \n",
       "1  One person found this helpful. Was this review...         Courtney   \n",
       "2                    Was this review helpful to you?  GREGORY TEEUWEN   \n",
       "3                    Was this review helpful to you?     Blaqirishman   \n",
       "4                    Was this review helpful to you?            Scott   \n",
       "\n",
       "        Date                                           Headline  \\\n",
       "0 2018-04-17  It isn't very bright but it's small and will e...   \n",
       "1 2018-04-16                         Bright, but eats batteries   \n",
       "2 2018-04-16         They work pretty good. Didn't blow me away   \n",
       "3 2018-04-16                                         Four Stars   \n",
       "4 2018-04-16                                         Five Stars   \n",
       "\n",
       "                      Pattern              Rating  \\\n",
       "0  Pattern: LED Flashlight 2P  5.0 out of 5 stars   \n",
       "1  Pattern: LED Flashlight 2P  5.0 out of 5 stars   \n",
       "2  Pattern: LED Flashlight 2P  4.0 out of 5 stars   \n",
       "3  Pattern: LED Flashlight 2P  4.0 out of 5 stars   \n",
       "4  Pattern: LED Flashlight 2P  5.0 out of 5 stars   \n",
       "\n",
       "                                          TextReview  \n",
       "0  It isn't very bright but it's small and will e...  \n",
       "1  Very bright, I work in a run down steel mill a...  \n",
       "2  They work pretty good. Didn't blow me away, an...  \n",
       "3  I will only say for now so far so good, will s...  \n",
       "4  Great little flashlight, very bright, will buy...  "
      ]
     },
     "execution_count": 5,
     "metadata": {},
     "output_type": "execute_result"
    }
   ],
   "source": [
    "df.head()"
   ]
  },
  {
   "cell_type": "code",
   "execution_count": 6,
   "metadata": {},
   "outputs": [
    {
     "name": "stdout",
     "output_type": "stream",
     "text": [
      "It isn't very bright but it's small and will easily fit in a pocket. If you use and loose flash lights a lot these are perfect.\n"
     ]
    }
   ],
   "source": [
    "print(df.iloc[0].TextReview)"
   ]
  },
  {
   "cell_type": "markdown",
   "metadata": {},
   "source": [
    "The text reviews are clean, which can be directly used in EDA. Now, change the comment and Rating into numerical data."
   ]
  },
  {
   "cell_type": "code",
   "execution_count": 7,
   "metadata": {},
   "outputs": [
    {
     "name": "stdout",
     "output_type": "stream",
     "text": [
      "5.0\n"
     ]
    }
   ],
   "source": [
    "for i in range(len(df.index)):\n",
    "    df.set_value(i,'Rating',float(df.iloc[i].Rating.split(' ')[0]))\n",
    "print (df.iloc[0].Rating)\n"
   ]
  },
  {
   "cell_type": "code",
   "execution_count": 8,
   "metadata": {},
   "outputs": [
    {
     "name": "stdout",
     "output_type": "stream",
     "text": [
      "0    1\n",
      "1    1\n",
      "2    0\n",
      "3    0\n",
      "4    0\n",
      "Name: Comment, dtype: object\n"
     ]
    }
   ],
   "source": [
    "for i in range(len(df.index)):\n",
    "    if df.iloc[i].Comment.split(' ')[0] == 'One':\n",
    "        df.set_value(i,'Comment', 1)\n",
    "    elif df.iloc[i].Comment.split(' ')[0] == 'Was':\n",
    "        df.set_value(i,'Comment', 0)\n",
    "    else:\n",
    "        df.set_value(i,'Comment', int(df.iloc[i].Comment.split(' ')[0]))\n",
    "print (df.iloc[0:5].Comment)"
   ]
  },
  {
   "cell_type": "code",
   "execution_count": 9,
   "metadata": {},
   "outputs": [
    {
     "data": {
      "text/html": [
       "<div>\n",
       "<style>\n",
       "    .dataframe thead tr:only-child th {\n",
       "        text-align: right;\n",
       "    }\n",
       "\n",
       "    .dataframe thead th {\n",
       "        text-align: left;\n",
       "    }\n",
       "\n",
       "    .dataframe tbody tr th {\n",
       "        vertical-align: top;\n",
       "    }\n",
       "</style>\n",
       "<table border=\"1\" class=\"dataframe\">\n",
       "  <thead>\n",
       "    <tr style=\"text-align: right;\">\n",
       "      <th></th>\n",
       "      <th>Comment</th>\n",
       "      <th>CustomerName</th>\n",
       "      <th>Date</th>\n",
       "      <th>Headline</th>\n",
       "      <th>Pattern</th>\n",
       "      <th>Rating</th>\n",
       "      <th>TextReview</th>\n",
       "    </tr>\n",
       "  </thead>\n",
       "  <tbody>\n",
       "    <tr>\n",
       "      <th>0</th>\n",
       "      <td>1</td>\n",
       "      <td>Alexander Cable</td>\n",
       "      <td>2018-04-17</td>\n",
       "      <td>It isn't very bright but it's small and will e...</td>\n",
       "      <td>Pattern: LED Flashlight 2P</td>\n",
       "      <td>5</td>\n",
       "      <td>It isn't very bright but it's small and will e...</td>\n",
       "    </tr>\n",
       "    <tr>\n",
       "      <th>1</th>\n",
       "      <td>1</td>\n",
       "      <td>Courtney</td>\n",
       "      <td>2018-04-16</td>\n",
       "      <td>Bright, but eats batteries</td>\n",
       "      <td>Pattern: LED Flashlight 2P</td>\n",
       "      <td>5</td>\n",
       "      <td>Very bright, I work in a run down steel mill a...</td>\n",
       "    </tr>\n",
       "    <tr>\n",
       "      <th>2</th>\n",
       "      <td>0</td>\n",
       "      <td>GREGORY TEEUWEN</td>\n",
       "      <td>2018-04-16</td>\n",
       "      <td>They work pretty good. Didn't blow me away</td>\n",
       "      <td>Pattern: LED Flashlight 2P</td>\n",
       "      <td>4</td>\n",
       "      <td>They work pretty good. Didn't blow me away, an...</td>\n",
       "    </tr>\n",
       "    <tr>\n",
       "      <th>3</th>\n",
       "      <td>0</td>\n",
       "      <td>Blaqirishman</td>\n",
       "      <td>2018-04-16</td>\n",
       "      <td>Four Stars</td>\n",
       "      <td>Pattern: LED Flashlight 2P</td>\n",
       "      <td>4</td>\n",
       "      <td>I will only say for now so far so good, will s...</td>\n",
       "    </tr>\n",
       "    <tr>\n",
       "      <th>4</th>\n",
       "      <td>0</td>\n",
       "      <td>Scott</td>\n",
       "      <td>2018-04-16</td>\n",
       "      <td>Five Stars</td>\n",
       "      <td>Pattern: LED Flashlight 2P</td>\n",
       "      <td>5</td>\n",
       "      <td>Great little flashlight, very bright, will buy...</td>\n",
       "    </tr>\n",
       "  </tbody>\n",
       "</table>\n",
       "</div>"
      ],
      "text/plain": [
       "  Comment     CustomerName       Date  \\\n",
       "0       1  Alexander Cable 2018-04-17   \n",
       "1       1         Courtney 2018-04-16   \n",
       "2       0  GREGORY TEEUWEN 2018-04-16   \n",
       "3       0     Blaqirishman 2018-04-16   \n",
       "4       0            Scott 2018-04-16   \n",
       "\n",
       "                                            Headline  \\\n",
       "0  It isn't very bright but it's small and will e...   \n",
       "1                         Bright, but eats batteries   \n",
       "2         They work pretty good. Didn't blow me away   \n",
       "3                                         Four Stars   \n",
       "4                                         Five Stars   \n",
       "\n",
       "                      Pattern Rating  \\\n",
       "0  Pattern: LED Flashlight 2P      5   \n",
       "1  Pattern: LED Flashlight 2P      5   \n",
       "2  Pattern: LED Flashlight 2P      4   \n",
       "3  Pattern: LED Flashlight 2P      4   \n",
       "4  Pattern: LED Flashlight 2P      5   \n",
       "\n",
       "                                          TextReview  \n",
       "0  It isn't very bright but it's small and will e...  \n",
       "1  Very bright, I work in a run down steel mill a...  \n",
       "2  They work pretty good. Didn't blow me away, an...  \n",
       "3  I will only say for now so far so good, will s...  \n",
       "4  Great little flashlight, very bright, will buy...  "
      ]
     },
     "execution_count": 9,
     "metadata": {},
     "output_type": "execute_result"
    }
   ],
   "source": [
    "df.head()"
   ]
  },
  {
   "cell_type": "code",
   "execution_count": 10,
   "metadata": {
    "collapsed": true
   },
   "outputs": [],
   "source": [
    "cleaned_review = df.loc[:,  'TextReview']"
   ]
  },
  {
   "cell_type": "markdown",
   "metadata": {},
   "source": [
    "#### EDA\n",
    "\n",
    "Goal: Use selected features in the review data to predict the rating.  \n",
    "\n",
    "There are 7 attributes for each review in the original dataset:  \n",
    "Comment: the number means the number of people who think this review is helpful  \n",
    "CustomerName: the name of the reviewers' Amazon account  \n",
    "Data: the date of uploading the review. They are from 2017 to now.  \n",
    "Headline: The headline of this review . \n",
    "Pattern: the pattern of the product the reviewer bought. There are three kinds of pattern:2P, 4packs and 6packs   \n",
    "Rating: The rating number given by reviewers    \n",
    "TextReviews: The text comments wrriten by the reviewers\n"
   ]
  },
  {
   "cell_type": "markdown",
   "metadata": {
    "collapsed": true
   },
   "source": [
    "Then, I try to check if the data is intuitive. And generally find out the relationship between rating and each features."
   ]
  },
  {
   "cell_type": "code",
   "execution_count": 11,
   "metadata": {},
   "outputs": [
    {
     "data": {
      "text/plain": [
       "5.0    549\n",
       "4.0    118\n",
       "1.0     81\n",
       "3.0     53\n",
       "2.0     52\n",
       "Name: Rating, dtype: int64"
      ]
     },
     "execution_count": 11,
     "metadata": {},
     "output_type": "execute_result"
    }
   ],
   "source": [
    "pd.value_counts(df.Rating)"
   ]
  },
  {
   "cell_type": "code",
   "execution_count": 52,
   "metadata": {},
   "outputs": [
    {
     "data": {
      "text/plain": [
       "[<matplotlib.lines.Line2D at 0x113a41048>]"
      ]
     },
     "execution_count": 52,
     "metadata": {},
     "output_type": "execute_result"
    },
    {
     "data": {
      "image/png": "[encoded data removed]",
      "text/plain": [
       "<matplotlib.figure.Figure at 0x1138def28>"
      ]
     },
     "metadata": {},
     "output_type": "display_data"
    }
   ],
   "source": [
    "pyplot.plot(df.Rating, '.')"
   ]
  },
  {
   "cell_type": "code",
   "execution_count": 53,
   "metadata": {},
   "outputs": [
    {
     "data": {
      "text/plain": [
       "(array([  81.,    0.,   52.,    0.,    0.,   53.,    0.,  118.,    0.,  549.]),\n",
       " array([ 1. ,  1.4,  1.8,  2.2,  2.6,  3. ,  3.4,  3.8,  4.2,  4.6,  5. ]),\n",
       " <a list of 10 Patch objects>)"
      ]
     },
     "execution_count": 53,
     "metadata": {},
     "output_type": "execute_result"
    },
    {
     "data": {
      "image/png": "[encoded data removed]",
      "text/plain": [
       "<matplotlib.figure.Figure at 0x113834198>"
      ]
     },
     "metadata": {},
     "output_type": "display_data"
    }
   ],
   "source": [
    "pyplot.hist(df.Rating)"
   ]
  },
  {
   "cell_type": "markdown",
   "metadata": {},
   "source": [
    "From the counting, we can see more than half of the reviews has reating of 5. The distribution of rating is not uniform. It should be take into consideration when I choose the traning set."
   ]
  },
  {
   "cell_type": "code",
   "execution_count": 56,
   "metadata": {},
   "outputs": [
    {
     "data": {
      "text/plain": [
       "0      702\n",
       "1       86\n",
       "2       27\n",
       "3       22\n",
       "4        7\n",
       "6        3\n",
       "5        3\n",
       "218      1\n",
       "16       1\n",
       "8        1\n",
       "Name: Comment, dtype: int64"
      ]
     },
     "execution_count": 56,
     "metadata": {},
     "output_type": "execute_result"
    }
   ],
   "source": [
    "pd.value_counts(df.Comment)"
   ]
  },
  {
   "cell_type": "code",
   "execution_count": 57,
   "metadata": {},
   "outputs": [
    {
     "data": {
      "text/plain": [
       "<matplotlib.collections.PathCollection at 0x113e3bf60>"
      ]
     },
     "execution_count": 57,
     "metadata": {},
     "output_type": "execute_result"
    },
    {
     "data": {
      "image/png": "[encoded data removed]",
      "text/plain": [
       "<matplotlib.figure.Figure at 0x1138dea58>"
      ]
     },
     "metadata": {},
     "output_type": "display_data"
    }
   ],
   "source": [
    "pyplot.scatter(df.Comment, df.Rating)"
   ]
  },
  {
   "cell_type": "code",
   "execution_count": 58,
   "metadata": {},
   "outputs": [
    {
     "data": {
      "text/html": [
       "<div>\n",
       "<style>\n",
       "    .dataframe thead tr:only-child th {\n",
       "        text-align: right;\n",
       "    }\n",
       "\n",
       "    .dataframe thead th {\n",
       "        text-align: left;\n",
       "    }\n",
       "\n",
       "    .dataframe tbody tr th {\n",
       "        vertical-align: top;\n",
       "    }\n",
       "</style>\n",
       "<table border=\"1\" class=\"dataframe\">\n",
       "  <thead>\n",
       "    <tr style=\"text-align: right;\">\n",
       "      <th></th>\n",
       "      <th>Comment</th>\n",
       "      <th>Rating</th>\n",
       "    </tr>\n",
       "  </thead>\n",
       "  <tbody>\n",
       "    <tr>\n",
       "      <th>0</th>\n",
       "      <td>1</td>\n",
       "      <td>5</td>\n",
       "    </tr>\n",
       "    <tr>\n",
       "      <th>1</th>\n",
       "      <td>1</td>\n",
       "      <td>5</td>\n",
       "    </tr>\n",
       "    <tr>\n",
       "      <th>27</th>\n",
       "      <td>1</td>\n",
       "      <td>5</td>\n",
       "    </tr>\n",
       "    <tr>\n",
       "      <th>41</th>\n",
       "      <td>1</td>\n",
       "      <td>4</td>\n",
       "    </tr>\n",
       "    <tr>\n",
       "      <th>60</th>\n",
       "      <td>1</td>\n",
       "      <td>5</td>\n",
       "    </tr>\n",
       "  </tbody>\n",
       "</table>\n",
       "</div>"
      ],
      "text/plain": [
       "   Comment Rating\n",
       "0        1      5\n",
       "1        1      5\n",
       "27       1      5\n",
       "41       1      4\n",
       "60       1      5"
      ]
     },
     "execution_count": 58,
     "metadata": {},
     "output_type": "execute_result"
    }
   ],
   "source": [
    "Comment_Rating = df[df.Comment != 0]\n",
    "Comment_Rating = Comment_Rating.loc[:, ['Comment', 'Rating']]\n",
    "Comment_Rating.head()"
   ]
  },
  {
   "cell_type": "code",
   "execution_count": 59,
   "metadata": {},
   "outputs": [
    {
     "data": {
      "text/plain": [
       "5.0    66\n",
       "1.0    61\n",
       "4.0    11\n",
       "2.0     8\n",
       "3.0     5\n",
       "Name: Rating, dtype: int64"
      ]
     },
     "execution_count": 59,
     "metadata": {},
     "output_type": "execute_result"
    }
   ],
   "source": [
    "pd.value_counts(Comment_Rating.Rating)"
   ]
  },
  {
   "cell_type": "code",
   "execution_count": 45,
   "metadata": {},
   "outputs": [
    {
     "data": {
      "text/plain": [
       "(array([ 61.,   0.,   8.,   0.,   0.,   5.,   0.,  11.,   0.,  66.]),\n",
       " array([ 1. ,  1.4,  1.8,  2.2,  2.6,  3. ,  3.4,  3.8,  4.2,  4.6,  5. ]),\n",
       " <a list of 10 Patch objects>)"
      ]
     },
     "execution_count": 45,
     "metadata": {},
     "output_type": "execute_result"
    },
    {
     "data": {
      "image/png": "[encoded data removed]",
      "text/plain": [
       "<matplotlib.figure.Figure at 0x113779208>"
      ]
     },
     "metadata": {},
     "output_type": "display_data"
    }
   ],
   "source": [
    "pyplot.hist(Comment_Rating.Rating)"
   ]
  },
  {
   "cell_type": "markdown",
   "metadata": {},
   "source": [
    "As for the helpful comment number, nearly 90% of the reviews have no comment. In the rest, except one review has 218 helpful comments, none of the others have comments more than 10. But from the rating dtribution of the commented reviews, we can see the most helpful reviews are the reviews make a rating of 1 or 5. This information may be useful for judging the credibility of the review."
   ]
  },
  {
   "cell_type": "code",
   "execution_count": 64,
   "metadata": {},
   "outputs": [
    {
     "data": {
      "text/plain": [
       "Amazon Customer      88\n",
       "Chris                 4\n",
       "Eric                  4\n",
       "Mike                  3\n",
       "Cliente de Amazon     3\n",
       "B                     2\n",
       "Andrew                2\n",
       "george                2\n",
       "John                  2\n",
       "Aaron                 2\n",
       "Matthew               2\n",
       "Heather               2\n",
       "Robert                2\n",
       "Dan                   2\n",
       "Happy                 2\n",
       "Name: CustomerName, dtype: int64"
      ]
     },
     "execution_count": 64,
     "metadata": {},
     "output_type": "execute_result"
    }
   ],
   "source": [
    "pd.value_counts(df.CustomerName).head(15)"
   ]
  },
  {
   "cell_type": "code",
   "execution_count": 47,
   "metadata": {},
   "outputs": [
    {
     "data": {
      "text/html": [
       "<div>\n",
       "<style>\n",
       "    .dataframe thead tr:only-child th {\n",
       "        text-align: right;\n",
       "    }\n",
       "\n",
       "    .dataframe thead th {\n",
       "        text-align: left;\n",
       "    }\n",
       "\n",
       "    .dataframe tbody tr th {\n",
       "        vertical-align: top;\n",
       "    }\n",
       "</style>\n",
       "<table border=\"1\" class=\"dataframe\">\n",
       "  <thead>\n",
       "    <tr style=\"text-align: right;\">\n",
       "      <th></th>\n",
       "      <th>CustomerName</th>\n",
       "      <th>Rating</th>\n",
       "    </tr>\n",
       "  </thead>\n",
       "  <tbody>\n",
       "    <tr>\n",
       "      <th>12</th>\n",
       "      <td>Amazon Customer</td>\n",
       "      <td>1</td>\n",
       "    </tr>\n",
       "    <tr>\n",
       "      <th>16</th>\n",
       "      <td>Amazon Customer</td>\n",
       "      <td>1</td>\n",
       "    </tr>\n",
       "    <tr>\n",
       "      <th>18</th>\n",
       "      <td>Amazon Customer</td>\n",
       "      <td>5</td>\n",
       "    </tr>\n",
       "    <tr>\n",
       "      <th>31</th>\n",
       "      <td>Amazon Customer</td>\n",
       "      <td>1</td>\n",
       "    </tr>\n",
       "    <tr>\n",
       "      <th>41</th>\n",
       "      <td>Amazon Customer</td>\n",
       "      <td>4</td>\n",
       "    </tr>\n",
       "  </tbody>\n",
       "</table>\n",
       "</div>"
      ],
      "text/plain": [
       "       CustomerName Rating\n",
       "12  Amazon Customer      1\n",
       "16  Amazon Customer      1\n",
       "18  Amazon Customer      5\n",
       "31  Amazon Customer      1\n",
       "41  Amazon Customer      4"
      ]
     },
     "execution_count": 47,
     "metadata": {},
     "output_type": "execute_result"
    }
   ],
   "source": [
    "Customer_Rating = df[df.CustomerName == 'Amazon Customer']\n",
    "Customer_Rating = Customer_Rating.loc[:, ['CustomerName', 'Rating']]\n",
    "Customer_Rating.head()"
   ]
  },
  {
   "cell_type": "code",
   "execution_count": 48,
   "metadata": {},
   "outputs": [
    {
     "data": {
      "text/plain": [
       "5.0    57\n",
       "4.0    12\n",
       "1.0    11\n",
       "3.0     4\n",
       "2.0     4\n",
       "Name: Rating, dtype: int64"
      ]
     },
     "execution_count": 48,
     "metadata": {},
     "output_type": "execute_result"
    }
   ],
   "source": [
    "pd.value_counts(Customer_Rating.Rating)"
   ]
  },
  {
   "cell_type": "markdown",
   "metadata": {},
   "source": [
    "This time, I checked the customer name. Except the 'Amazon Customer' (it maybe the default name for anonymous customers), most of them only have one review. "
   ]
  },
  {
   "cell_type": "code",
   "execution_count": null,
   "metadata": {
    "collapsed": true
   },
   "outputs": [],
   "source": []
  },
  {
   "cell_type": "markdown",
   "metadata": {},
   "source": [
    "Choosing the training set and test set"
   ]
  },
  {
   "cell_type": "code",
   "execution_count": 75,
   "metadata": {},
   "outputs": [],
   "source": [
    "Rating1 = df[df.Rating == 1]\n",
    "Rating1 = Rating1.loc[:, ['TextReview', 'Rating']]\n",
    "X_train1, X_test1, y_train1, y_test1 = train_test_split(Rating1['TextReview'], Rating1['Rating'], test_size = 0.3, random_state = 0)"
   ]
  },
  {
   "cell_type": "code",
   "execution_count": 88,
   "metadata": {
    "collapsed": true
   },
   "outputs": [],
   "source": [
    "Rating2 = df[df.Rating == 2]\n",
    "Rating2 = Rating2.loc[:, ['TextReview', 'Rating']]\n",
    "X_train2, X_test2, y_train2, y_test2 = train_test_split(Rating2['TextReview'], Rating2['Rating'], test_size = 0.3, random_state = 0)"
   ]
  },
  {
   "cell_type": "code",
   "execution_count": 89,
   "metadata": {
    "collapsed": true
   },
   "outputs": [],
   "source": [
    "Rating3 = df[df.Rating == 3]\n",
    "Rating3 = Rating3.loc[:, ['TextReview', 'Rating']]\n",
    "X_train3, X_test3, y_train3, y_test3 = train_test_split(Rating3['TextReview'], Rating3['Rating'], test_size = 0.3, random_state = 0)"
   ]
  },
  {
   "cell_type": "code",
   "execution_count": 90,
   "metadata": {
    "collapsed": true
   },
   "outputs": [],
   "source": [
    "Rating4 = df[df.Rating == 4]\n",
    "Rating4 = Rating4.loc[:, ['TextReview', 'Rating']]\n",
    "X_train4, X_test4, y_train4, y_test4 = train_test_split(Rating4['TextReview'], Rating4['Rating'], test_size = 0.3, random_state = 0)"
   ]
  },
  {
   "cell_type": "code",
   "execution_count": 91,
   "metadata": {
    "collapsed": true
   },
   "outputs": [],
   "source": [
    "Rating5 = df[df.Rating == 5]\n",
    "Rating5 = Rating5.loc[:, ['TextReview', 'Rating']]\n",
    "X_train5, X_test5, y_train5, y_test5 = train_test_split(Rating5['TextReview'], Rating5['Rating'], test_size = 0.3, random_state = 0)"
   ]
  },
  {
   "cell_type": "code",
   "execution_count": 97,
   "metadata": {},
   "outputs": [],
   "source": [
    "X_train = X_train1.append(X_train2)\n",
    "X_train = X_train.append(X_train3)\n",
    "X_train = X_train.append(X_train4)\n",
    "X_train = X_train.append(X_train5)"
   ]
  },
  {
   "cell_type": "code",
   "execution_count": 98,
   "metadata": {},
   "outputs": [
    {
     "data": {
      "text/plain": [
       "595"
      ]
     },
     "execution_count": 98,
     "metadata": {},
     "output_type": "execute_result"
    }
   ],
   "source": [
    "len(X_train.index)"
   ]
  },
  {
   "cell_type": "code",
   "execution_count": 138,
   "metadata": {
    "collapsed": true
   },
   "outputs": [],
   "source": [
    "X_test = X_test1.append(X_test2)\n",
    "X_test = X_test.append(X_test3)\n",
    "X_test = X_test.append(X_test4)\n",
    "X_test = X_test.append(X_test5)"
   ]
  },
  {
   "cell_type": "code",
   "execution_count": 99,
   "metadata": {
    "collapsed": true
   },
   "outputs": [],
   "source": [
    "y_train = y_train1.append(y_train2)\n",
    "y_train = y_train.append(y_train3)\n",
    "y_train = y_train.append(y_train4)\n",
    "y_train = y_train.append(y_train5)"
   ]
  },
  {
   "cell_type": "code",
   "execution_count": 100,
   "metadata": {},
   "outputs": [
    {
     "data": {
      "text/plain": [
       "595"
      ]
     },
     "execution_count": 100,
     "metadata": {},
     "output_type": "execute_result"
    }
   ],
   "source": [
    "len(y_train.index)"
   ]
  },
  {
   "cell_type": "code",
   "execution_count": 135,
   "metadata": {
    "collapsed": true
   },
   "outputs": [],
   "source": [
    "y_train=y_train.astype('int')"
   ]
  },
  {
   "cell_type": "code",
   "execution_count": 139,
   "metadata": {
    "collapsed": true
   },
   "outputs": [],
   "source": [
    "y_test = y_test1.append(y_test2)\n",
    "y_test = y_test.append(y_test3)\n",
    "y_test = y_test.append(y_test4)\n",
    "y_test = y_test.append(y_test5)"
   ]
  },
  {
   "cell_type": "code",
   "execution_count": 140,
   "metadata": {
    "collapsed": true
   },
   "outputs": [],
   "source": [
    "y_test=y_test.astype('int')"
   ]
  },
  {
   "cell_type": "code",
   "execution_count": null,
   "metadata": {
    "collapsed": true
   },
   "outputs": [],
   "source": []
  },
  {
   "cell_type": "code",
   "execution_count": null,
   "metadata": {
    "collapsed": true
   },
   "outputs": [],
   "source": []
  },
  {
   "cell_type": "markdown",
   "metadata": {},
   "source": [
    "Find Bags-of-words"
   ]
  },
  {
   "cell_type": "code",
   "execution_count": 101,
   "metadata": {
    "collapsed": true
   },
   "outputs": [],
   "source": [
    "cv = CountVectorizer(lowercase=True, stop_words='english')"
   ]
  },
  {
   "cell_type": "code",
   "execution_count": 102,
   "metadata": {
    "collapsed": true
   },
   "outputs": [],
   "source": [
    "vect = cv.fit(X_train)"
   ]
  },
  {
   "cell_type": "code",
   "execution_count": 103,
   "metadata": {},
   "outputs": [
    {
     "data": {
      "text/plain": [
       "CountVectorizer(analyzer='word', binary=False, decode_error='strict',\n",
       "        dtype=<class 'numpy.int64'>, encoding='utf-8', input='content',\n",
       "        lowercase=True, max_df=1.0, max_features=None, min_df=1,\n",
       "        ngram_range=(1, 1), preprocessor=None, stop_words='english',\n",
       "        strip_accents=None, token_pattern='(?u)\\\\b\\\\w\\\\w+\\\\b',\n",
       "        tokenizer=None, vocabulary=None)"
      ]
     },
     "execution_count": 103,
     "metadata": {},
     "output_type": "execute_result"
    }
   ],
   "source": [
    "vect"
   ]
  },
  {
   "cell_type": "code",
   "execution_count": 105,
   "metadata": {},
   "outputs": [],
   "source": [
    "feature_name = vect.get_feature_names()"
   ]
  },
  {
   "cell_type": "code",
   "execution_count": 106,
   "metadata": {},
   "outputs": [
    {
     "data": {
      "text/plain": [
       "1846"
      ]
     },
     "execution_count": 106,
     "metadata": {},
     "output_type": "execute_result"
    }
   ],
   "source": [
    "len(feature_name)"
   ]
  },
  {
   "cell_type": "markdown",
   "metadata": {},
   "source": [
    "There are too many features. Try to find some useless words."
   ]
  },
  {
   "cell_type": "code",
   "execution_count": 116,
   "metadata": {
    "collapsed": true
   },
   "outputs": [],
   "source": [
    "nlp = spacy.load('en')"
   ]
  },
  {
   "cell_type": "code",
   "execution_count": 117,
   "metadata": {
    "collapsed": true
   },
   "outputs": [],
   "source": [
    "def noun_adj_verb_filter(sentences):\n",
    "    preprocessed_sentences = []\n",
    "    keep_types = {'NOUN', 'PROPN', 'ADJ', 'VERB'}\n",
    "    \n",
    "    for sentence in sentences:\n",
    "        doc = nlp(sentence)\n",
    "        \n",
    "        keep_tokens_string = ' '.join([t.text for t in doc if t.pos_ in keep_types])\n",
    "        preprocessed_sentences.append(keep_tokens_string)\n",
    "    \n",
    "    return preprocessed_sentences"
   ]
  },
  {
   "cell_type": "code",
   "execution_count": 118,
   "metadata": {},
   "outputs": [],
   "source": [
    "navf = noun_adj_verb_filter(X_train)"
   ]
  },
  {
   "cell_type": "code",
   "execution_count": 121,
   "metadata": {},
   "outputs": [
    {
     "name": "stdout",
     "output_type": "stream",
     "text": [
      "[[0 0 1 ..., 0 0 0]\n",
      " [0 0 0 ..., 1 0 0]\n",
      " [0 0 1 ..., 0 0 0]\n",
      " ..., \n",
      " [0 0 0 ..., 0 0 0]\n",
      " [0 0 0 ..., 0 0 0]\n",
      " [0 0 0 ..., 0 0 0]]\n"
     ]
    },
    {
     "data": {
      "text/plain": [
       "['aa',\n",
       " 'batteries',\n",
       " 'battery',\n",
       " 'bright',\n",
       " 'clip',\n",
       " 'flashlight',\n",
       " 'flashlights',\n",
       " 'good',\n",
       " 'great',\n",
       " 'light',\n",
       " 'lights',\n",
       " 'little',\n",
       " 'love',\n",
       " 'pocket',\n",
       " 'price',\n",
       " 'product',\n",
       " 'size',\n",
       " 'small',\n",
       " 'use',\n",
       " 'work']"
      ]
     },
     "execution_count": 121,
     "metadata": {},
     "output_type": "execute_result"
    }
   ],
   "source": [
    "cv = CountVectorizer(lowercase=True, stop_words='english',max_features=20)\n",
    "vect = cv.fit_transform(navf)\n",
    "print(vect.toarray())\n",
    "cv.get_feature_names()"
   ]
  },
  {
   "cell_type": "markdown",
   "metadata": {},
   "source": [
    "Find some stop words in the most frequecy words"
   ]
  },
  {
   "cell_type": "code",
   "execution_count": 125,
   "metadata": {
    "collapsed": true
   },
   "outputs": [],
   "source": [
    "stop_words = {'aa', 'flashlight', 'light', 'product', 'use'}"
   ]
  },
  {
   "cell_type": "code",
   "execution_count": 126,
   "metadata": {
    "collapsed": true
   },
   "outputs": [],
   "source": [
    "def noun_adj_verb_filter(sentences, stop_words=None):\n",
    "    preprocessed_sentences = []\n",
    "    keep_types = {'NOUN', 'PROPN', 'ADJ', 'VERB'}\n",
    "    \n",
    "    for sentence in sentences:\n",
    "        doc = nlp(sentence)\n",
    "        \n",
    "        if stop_words is not None:\n",
    "            keep_tokens_string = ' '.join([t.lemma_ for t in doc if t.pos_ in keep_types and t.lemma_ not in stop_words])\n",
    "        else:\n",
    "            keep_tokens_string = ' '.join([t.lemma_ for t in doc if t.pos_ in keep_types])\n",
    "        preprocessed_sentences.append(keep_tokens_string)\n",
    "    \n",
    "    return preprocessed_sentences"
   ]
  },
  {
   "cell_type": "code",
   "execution_count": 127,
   "metadata": {
    "collapsed": true
   },
   "outputs": [],
   "source": [
    "navf = noun_adj_verb_filter(X_train)"
   ]
  },
  {
   "cell_type": "code",
   "execution_count": 132,
   "metadata": {},
   "outputs": [
    {
     "name": "stdout",
     "output_type": "stream",
     "text": [
      "[[1 0 0 ..., 0 0 0]\n",
      " [0 0 0 ..., 0 0 0]\n",
      " [1 0 0 ..., 0 0 0]\n",
      " ..., \n",
      " [0 0 1 ..., 0 0 0]\n",
      " [0 0 0 ..., 0 0 0]\n",
      " [0 0 0 ..., 0 0 0]]\n"
     ]
    },
    {
     "data": {
      "text/plain": [
       "['battery',\n",
       " 'bright',\n",
       " 'buy',\n",
       " 'clip',\n",
       " 'flashlight',\n",
       " 'good',\n",
       " 'great',\n",
       " 'light',\n",
       " 'little',\n",
       " 'love',\n",
       " 'mode',\n",
       " 'price',\n",
       " 'product',\n",
       " 'pron',\n",
       " 'size',\n",
       " 'small',\n",
       " 'time',\n",
       " 'turn',\n",
       " 'use',\n",
       " 'work']"
      ]
     },
     "execution_count": 132,
     "metadata": {},
     "output_type": "execute_result"
    }
   ],
   "source": [
    "cv = CountVectorizer(lowercase=True, stop_words='english',max_features=20)\n",
    "X_train_vect = cv.fit_transform(navf)\n",
    "print(X_train_vect.toarray())\n",
    "cv.get_feature_names()"
   ]
  },
  {
   "cell_type": "code",
   "execution_count": null,
   "metadata": {
    "collapsed": true
   },
   "outputs": [],
   "source": []
  },
  {
   "cell_type": "markdown",
   "metadata": {},
   "source": [
    "Build the model"
   ]
  },
  {
   "cell_type": "code",
   "execution_count": 129,
   "metadata": {
    "collapsed": true
   },
   "outputs": [],
   "source": [
    "from sklearn.linear_model import LogisticRegression"
   ]
  },
  {
   "cell_type": "code",
   "execution_count": 131,
   "metadata": {},
   "outputs": [],
   "source": [
    "model = LogisticRegression()"
   ]
  },
  {
   "cell_type": "code",
   "execution_count": 136,
   "metadata": {},
   "outputs": [
    {
     "data": {
      "text/plain": [
       "LogisticRegression(C=1.0, class_weight=None, dual=False, fit_intercept=True,\n",
       "          intercept_scaling=1, max_iter=100, multi_class='ovr', n_jobs=1,\n",
       "          penalty='l2', random_state=None, solver='liblinear', tol=0.0001,\n",
       "          verbose=0, warm_start=False)"
      ]
     },
     "execution_count": 136,
     "metadata": {},
     "output_type": "execute_result"
    }
   ],
   "source": [
    "model.fit(X_train_vect, y_train)"
   ]
  },
  {
   "cell_type": "code",
   "execution_count": 137,
   "metadata": {
    "collapsed": true
   },
   "outputs": [],
   "source": [
    "from sklearn.metrics import roc_auc_score"
   ]
  },
  {
   "cell_type": "code",
   "execution_count": 142,
   "metadata": {
    "collapsed": true
   },
   "outputs": [],
   "source": [
    "navf_test = noun_adj_verb_filter(X_test)"
   ]
  },
  {
   "cell_type": "code",
   "execution_count": 143,
   "metadata": {
    "collapsed": true
   },
   "outputs": [],
   "source": [
    "X_test_vect = cv.fit_transform(navf_test)"
   ]
  },
  {
   "cell_type": "code",
   "execution_count": 144,
   "metadata": {
    "scrolled": true
   },
   "outputs": [],
   "source": [
    "predictions = model.predict(X_test_vect)"
   ]
  },
  {
   "cell_type": "code",
   "execution_count": 148,
   "metadata": {},
   "outputs": [
    {
     "data": {
      "text/plain": [
       "0.63565891472868219"
      ]
     },
     "execution_count": 148,
     "metadata": {},
     "output_type": "execute_result"
    }
   ],
   "source": [
    "model.score(X_test_vect, y_test)"
   ]
  },
  {
   "cell_type": "code",
   "execution_count": 149,
   "metadata": {},
   "outputs": [
    {
     "data": {
      "text/plain": [
       "0.67226890756302526"
      ]
     },
     "execution_count": 149,
     "metadata": {},
     "output_type": "execute_result"
    }
   ],
   "source": [
    "model.score(X_train_vect, y_train)"
   ]
  },
  {
   "cell_type": "code",
   "execution_count": 151,
   "metadata": {},
   "outputs": [],
   "source": [
    "from sklearn.metrics import confusion_matrix"
   ]
  },
  {
   "cell_type": "code",
   "execution_count": 153,
   "metadata": {},
   "outputs": [],
   "source": [
    "conf_matrix = confusion_matrix(y_train, model.predict(X_train_vect))"
   ]
  },
  {
   "cell_type": "code",
   "execution_count": 154,
   "metadata": {},
   "outputs": [
    {
     "data": {
      "text/plain": [
       "array([[ 10,   2,   0,   2,  42],\n",
       "       [  7,   4,   0,   0,  25],\n",
       "       [  3,   1,   1,   3,  29],\n",
       "       [  1,   0,   2,   8,  71],\n",
       "       [  3,   2,   0,   2, 377]])"
      ]
     },
     "execution_count": 154,
     "metadata": {},
     "output_type": "execute_result"
    }
   ],
   "source": [
    "conf_matrix"
   ]
  },
  {
   "cell_type": "code",
   "execution_count": null,
   "metadata": {
    "collapsed": true
   },
   "outputs": [],
   "source": []
  },
  {
   "cell_type": "code",
   "execution_count": null,
   "metadata": {
    "collapsed": true
   },
   "outputs": [],
   "source": []
  }
 ],
 "metadata": {
  "kernelspec": {
   "display_name": "Python 3",
   "language": "python",
   "name": "python3"
  },
  "language_info": {
   "codemirror_mode": {
    "name": "ipython",
    "version": 3
   },
   "file_extension": ".py",
   "mimetype": "text/x-python",
   "name": "python",
   "nbconvert_exporter": "python",
   "pygments_lexer": "ipython3",
   "version": "3.6.1"
  }
 },
 "nbformat": 4,
 "nbformat_minor": 2
}
